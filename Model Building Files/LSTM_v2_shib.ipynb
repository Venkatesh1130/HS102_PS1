{
  "nbformat": 4,
  "nbformat_minor": 5,
  "metadata": {
    "colab": {
      "name": "LSTM_v2.ipynb",
      "provenance": [],
      "collapsed_sections": []
    },
    "kernelspec": {
      "display_name": "Python 3",
      "language": "python",
      "name": "python3"
    },
    "language_info": {
      "codemirror_mode": {
        "name": "ipython",
        "version": 3
      },
      "file_extension": ".py",
      "mimetype": "text/x-python",
      "name": "python",
      "nbconvert_exporter": "python",
      "pygments_lexer": "ipython3",
      "version": "3.8.7"
    }
  },
  "cells": [
    {
      "cell_type": "code",
      "metadata": {
        "colab": {
          "base_uri": "https://localhost:8080/"
        },
        "id": "portuguese-chrome",
        "outputId": "c3d93740-b9ed-4259-bbab-3d23e87f1427"
      },
      "source": [
        "import numpy as np\n",
        "import pandas as pd\n",
        "!pip install yfinance\n",
        "import yfinance as yf\n",
        "import matplotlib.pyplot as plt\n",
        "from array import *\n",
        "from tensorflow.keras.models import Sequential\n",
        "from tensorflow.keras.layers import Dense\n",
        "from tensorflow.keras.layers import LSTM\n",
        "from tensorflow.keras.layers import Dropout\n",
        "from sklearn.preprocessing import StandardScaler\n",
        "import seaborn as sns\n",
        "\n",
        "\n",
        "\n",
        "def fetch_data (upto_dates = 10 , tickers='SHIB-USD'):\n",
        "  data = yf.download(tickers=tickers, period = f'{upto_dates}d', interval = '1d')\n",
        "  new_array = np.array(data.index.to_pydatetime(), dtype=np.datetime64)\n",
        "  o = data.iloc[: , 0].values\n",
        "  h = data.iloc[: , 1].values\n",
        "  l = data.iloc[: , 2].values\n",
        "  c = data.iloc[: , 3].values\n",
        "  df= pd.DataFrame(new_array)\n",
        "  df.columns = ['Date']\n",
        "  df['Open']=o\n",
        "  df['High']=h\n",
        "  df['Low']=l\n",
        "  df['Close']=c\n",
        "  return df"
      ],
      "id": "portuguese-chrome",
      "execution_count": 1,
      "outputs": [
        {
          "output_type": "stream",
          "name": "stdout",
          "text": [
            "Collecting yfinance\n",
            "  Downloading yfinance-0.1.63.tar.gz (26 kB)\n",
            "Requirement already satisfied: pandas>=0.24 in /usr/local/lib/python3.7/dist-packages (from yfinance) (1.1.5)\n",
            "Requirement already satisfied: numpy>=1.15 in /usr/local/lib/python3.7/dist-packages (from yfinance) (1.19.5)\n",
            "Requirement already satisfied: requests>=2.20 in /usr/local/lib/python3.7/dist-packages (from yfinance) (2.23.0)\n",
            "Requirement already satisfied: multitasking>=0.0.7 in /usr/local/lib/python3.7/dist-packages (from yfinance) (0.0.9)\n",
            "Collecting lxml>=4.5.1\n",
            "  Downloading lxml-4.6.3-cp37-cp37m-manylinux2014_x86_64.whl (6.3 MB)\n",
            "\u001b[K     |████████████████████████████████| 6.3 MB 37.7 MB/s \n",
            "\u001b[?25hRequirement already satisfied: python-dateutil>=2.7.3 in /usr/local/lib/python3.7/dist-packages (from pandas>=0.24->yfinance) (2.8.2)\n",
            "Requirement already satisfied: pytz>=2017.2 in /usr/local/lib/python3.7/dist-packages (from pandas>=0.24->yfinance) (2018.9)\n",
            "Requirement already satisfied: six>=1.5 in /usr/local/lib/python3.7/dist-packages (from python-dateutil>=2.7.3->pandas>=0.24->yfinance) (1.15.0)\n",
            "Requirement already satisfied: urllib3!=1.25.0,!=1.25.1,<1.26,>=1.21.1 in /usr/local/lib/python3.7/dist-packages (from requests>=2.20->yfinance) (1.24.3)\n",
            "Requirement already satisfied: idna<3,>=2.5 in /usr/local/lib/python3.7/dist-packages (from requests>=2.20->yfinance) (2.10)\n",
            "Requirement already satisfied: certifi>=2017.4.17 in /usr/local/lib/python3.7/dist-packages (from requests>=2.20->yfinance) (2021.5.30)\n",
            "Requirement already satisfied: chardet<4,>=3.0.2 in /usr/local/lib/python3.7/dist-packages (from requests>=2.20->yfinance) (3.0.4)\n",
            "Building wheels for collected packages: yfinance\n",
            "  Building wheel for yfinance (setup.py) ... \u001b[?25l\u001b[?25hdone\n",
            "  Created wheel for yfinance: filename=yfinance-0.1.63-py2.py3-none-any.whl size=23918 sha256=98a099cc43a503a2baaab35f8097343d6f3534cd648a2c8b7683fcfed2041fe1\n",
            "  Stored in directory: /root/.cache/pip/wheels/fe/87/8b/7ec24486e001d3926537f5f7801f57a74d181be25b11157983\n",
            "Successfully built yfinance\n",
            "Installing collected packages: lxml, yfinance\n",
            "  Attempting uninstall: lxml\n",
            "    Found existing installation: lxml 4.2.6\n",
            "    Uninstalling lxml-4.2.6:\n",
            "      Successfully uninstalled lxml-4.2.6\n",
            "Successfully installed lxml-4.6.3 yfinance-0.1.63\n"
          ]
        }
      ]
    },
    {
      "cell_type": "code",
      "metadata": {
        "colab": {
          "base_uri": "https://localhost:8080/",
          "height": 436
        },
        "id": "checked-holly",
        "outputId": "8970b964-3973-4c34-8b23-3dc589411251"
      },
      "source": [
        "df=fetch_data(300)\n",
        "df"
      ],
      "id": "checked-holly",
      "execution_count": 22,
      "outputs": [
        {
          "output_type": "stream",
          "name": "stdout",
          "text": [
            "\r[*********************100%***********************]  1 of 1 completed\n"
          ]
        },
        {
          "output_type": "execute_result",
          "data": {
            "text/html": [
              "<div>\n",
              "<style scoped>\n",
              "    .dataframe tbody tr th:only-of-type {\n",
              "        vertical-align: middle;\n",
              "    }\n",
              "\n",
              "    .dataframe tbody tr th {\n",
              "        vertical-align: top;\n",
              "    }\n",
              "\n",
              "    .dataframe thead th {\n",
              "        text-align: right;\n",
              "    }\n",
              "</style>\n",
              "<table border=\"1\" class=\"dataframe\">\n",
              "  <thead>\n",
              "    <tr style=\"text-align: right;\">\n",
              "      <th></th>\n",
              "      <th>Date</th>\n",
              "      <th>Open</th>\n",
              "      <th>High</th>\n",
              "      <th>Low</th>\n",
              "      <th>Close</th>\n",
              "    </tr>\n",
              "  </thead>\n",
              "  <tbody>\n",
              "    <tr>\n",
              "      <th>0</th>\n",
              "      <td>2021-05-19</td>\n",
              "      <td>0.000016</td>\n",
              "      <td>0.000016</td>\n",
              "      <td>0.000006</td>\n",
              "      <td>0.000009</td>\n",
              "    </tr>\n",
              "    <tr>\n",
              "      <th>1</th>\n",
              "      <td>2021-05-20</td>\n",
              "      <td>0.000009</td>\n",
              "      <td>0.000012</td>\n",
              "      <td>0.000008</td>\n",
              "      <td>0.000010</td>\n",
              "    </tr>\n",
              "    <tr>\n",
              "      <th>2</th>\n",
              "      <td>2021-05-21</td>\n",
              "      <td>0.000010</td>\n",
              "      <td>0.000010</td>\n",
              "      <td>0.000007</td>\n",
              "      <td>0.000008</td>\n",
              "    </tr>\n",
              "    <tr>\n",
              "      <th>3</th>\n",
              "      <td>2021-05-22</td>\n",
              "      <td>0.000008</td>\n",
              "      <td>0.000010</td>\n",
              "      <td>0.000007</td>\n",
              "      <td>0.000008</td>\n",
              "    </tr>\n",
              "    <tr>\n",
              "      <th>4</th>\n",
              "      <td>2021-05-23</td>\n",
              "      <td>0.000008</td>\n",
              "      <td>0.000010</td>\n",
              "      <td>0.000007</td>\n",
              "      <td>0.000008</td>\n",
              "    </tr>\n",
              "    <tr>\n",
              "      <th>...</th>\n",
              "      <td>...</td>\n",
              "      <td>...</td>\n",
              "      <td>...</td>\n",
              "      <td>...</td>\n",
              "      <td>...</td>\n",
              "    </tr>\n",
              "    <tr>\n",
              "      <th>139</th>\n",
              "      <td>2021-10-05</td>\n",
              "      <td>0.000013</td>\n",
              "      <td>0.000020</td>\n",
              "      <td>0.000012</td>\n",
              "      <td>0.000017</td>\n",
              "    </tr>\n",
              "    <tr>\n",
              "      <th>140</th>\n",
              "      <td>2021-10-06</td>\n",
              "      <td>0.000017</td>\n",
              "      <td>0.000029</td>\n",
              "      <td>0.000017</td>\n",
              "      <td>0.000028</td>\n",
              "    </tr>\n",
              "    <tr>\n",
              "      <th>141</th>\n",
              "      <td>2021-10-07</td>\n",
              "      <td>0.000028</td>\n",
              "      <td>0.000035</td>\n",
              "      <td>0.000021</td>\n",
              "      <td>0.000023</td>\n",
              "    </tr>\n",
              "    <tr>\n",
              "      <th>142</th>\n",
              "      <td>2021-10-08</td>\n",
              "      <td>0.000023</td>\n",
              "      <td>0.000029</td>\n",
              "      <td>0.000021</td>\n",
              "      <td>0.000027</td>\n",
              "    </tr>\n",
              "    <tr>\n",
              "      <th>143</th>\n",
              "      <td>2021-10-09</td>\n",
              "      <td>0.000027</td>\n",
              "      <td>0.000030</td>\n",
              "      <td>0.000027</td>\n",
              "      <td>0.000028</td>\n",
              "    </tr>\n",
              "  </tbody>\n",
              "</table>\n",
              "<p>144 rows × 5 columns</p>\n",
              "</div>"
            ],
            "text/plain": [
              "          Date      Open      High       Low     Close\n",
              "0   2021-05-19  0.000016  0.000016  0.000006  0.000009\n",
              "1   2021-05-20  0.000009  0.000012  0.000008  0.000010\n",
              "2   2021-05-21  0.000010  0.000010  0.000007  0.000008\n",
              "3   2021-05-22  0.000008  0.000010  0.000007  0.000008\n",
              "4   2021-05-23  0.000008  0.000010  0.000007  0.000008\n",
              "..         ...       ...       ...       ...       ...\n",
              "139 2021-10-05  0.000013  0.000020  0.000012  0.000017\n",
              "140 2021-10-06  0.000017  0.000029  0.000017  0.000028\n",
              "141 2021-10-07  0.000028  0.000035  0.000021  0.000023\n",
              "142 2021-10-08  0.000023  0.000029  0.000021  0.000027\n",
              "143 2021-10-09  0.000027  0.000030  0.000027  0.000028\n",
              "\n",
              "[144 rows x 5 columns]"
            ]
          },
          "metadata": {},
          "execution_count": 22
        }
      ]
    },
    {
      "cell_type": "code",
      "metadata": {
        "id": "basic-sally"
      },
      "source": [
        "\n",
        "cols =['Close']"
      ],
      "id": "basic-sally",
      "execution_count": 23,
      "outputs": []
    },
    {
      "cell_type": "code",
      "metadata": {
        "colab": {
          "base_uri": "https://localhost:8080/",
          "height": 283
        },
        "id": "better-bruce",
        "outputId": "42a96d19-2ad8-49eb-d8d6-19009a188814"
      },
      "source": [
        "df_for_training = df[cols].astype(float)\n",
        "print(df_for_training.shape)\n",
        "df_for_training.head(7)"
      ],
      "id": "better-bruce",
      "execution_count": 24,
      "outputs": [
        {
          "output_type": "stream",
          "name": "stdout",
          "text": [
            "(144, 1)\n"
          ]
        },
        {
          "output_type": "execute_result",
          "data": {
            "text/html": [
              "<div>\n",
              "<style scoped>\n",
              "    .dataframe tbody tr th:only-of-type {\n",
              "        vertical-align: middle;\n",
              "    }\n",
              "\n",
              "    .dataframe tbody tr th {\n",
              "        vertical-align: top;\n",
              "    }\n",
              "\n",
              "    .dataframe thead th {\n",
              "        text-align: right;\n",
              "    }\n",
              "</style>\n",
              "<table border=\"1\" class=\"dataframe\">\n",
              "  <thead>\n",
              "    <tr style=\"text-align: right;\">\n",
              "      <th></th>\n",
              "      <th>Close</th>\n",
              "    </tr>\n",
              "  </thead>\n",
              "  <tbody>\n",
              "    <tr>\n",
              "      <th>0</th>\n",
              "      <td>0.000009</td>\n",
              "    </tr>\n",
              "    <tr>\n",
              "      <th>1</th>\n",
              "      <td>0.000010</td>\n",
              "    </tr>\n",
              "    <tr>\n",
              "      <th>2</th>\n",
              "      <td>0.000008</td>\n",
              "    </tr>\n",
              "    <tr>\n",
              "      <th>3</th>\n",
              "      <td>0.000008</td>\n",
              "    </tr>\n",
              "    <tr>\n",
              "      <th>4</th>\n",
              "      <td>0.000008</td>\n",
              "    </tr>\n",
              "    <tr>\n",
              "      <th>5</th>\n",
              "      <td>0.000011</td>\n",
              "    </tr>\n",
              "    <tr>\n",
              "      <th>6</th>\n",
              "      <td>0.000009</td>\n",
              "    </tr>\n",
              "  </tbody>\n",
              "</table>\n",
              "</div>"
            ],
            "text/plain": [
              "      Close\n",
              "0  0.000009\n",
              "1  0.000010\n",
              "2  0.000008\n",
              "3  0.000008\n",
              "4  0.000008\n",
              "5  0.000011\n",
              "6  0.000009"
            ]
          },
          "metadata": {},
          "execution_count": 24
        }
      ]
    },
    {
      "cell_type": "code",
      "metadata": {
        "id": "saved-magazine"
      },
      "source": [
        "from sklearn.preprocessing import MinMaxScaler\n",
        "scaler = MinMaxScaler(feature_range=(0,1))\n",
        "scaler = scaler.fit(df_for_training)\n",
        "df_for_training_scaled = scaler.transform(df_for_training)"
      ],
      "id": "saved-magazine",
      "execution_count": 25,
      "outputs": []
    },
    {
      "cell_type": "code",
      "metadata": {
        "colab": {
          "base_uri": "https://localhost:8080/"
        },
        "id": "dangerous-border",
        "outputId": "11cecde9-6cde-4c96-cc13-b0e22d4ab4eb"
      },
      "source": [
        "trainX = []\n",
        "trainY = []\n",
        "n_past = 10\n",
        "for i in range(n_past, len(df_for_training_scaled)):\n",
        "    trainX.append(df_for_training_scaled[i - n_past:i, 0:df_for_training.shape[1]])\n",
        "    trainY.append(df_for_training_scaled[i , 0])   # predict only open for next day\n",
        "\n",
        "trainX = np.array(trainX)\n",
        "trainY = np.array(trainY)\n",
        "print('shape of trainx is :',trainX.shape)\n",
        "print('shape of trainy is :',trainY.shape)"
      ],
      "id": "dangerous-border",
      "execution_count": 26,
      "outputs": [
        {
          "output_type": "stream",
          "name": "stdout",
          "text": [
            "shape of trainx is : (134, 10, 1)\n",
            "shape of trainy is : (134,)\n"
          ]
        }
      ]
    },
    {
      "cell_type": "code",
      "metadata": {
        "colab": {
          "base_uri": "https://localhost:8080/"
        },
        "id": "VoBbm5CUUs4j",
        "outputId": "e8406266-fdbf-4709-d648-83c488d2f47e"
      },
      "source": [
        "model = Sequential()\n",
        "model.add(LSTM(256, activation='relu', input_shape=(trainX.shape[1], trainX.shape[2]), return_sequences=True))\n",
        "model.add(LSTM(128, activation='relu', return_sequences=True))\n",
        "model.add(Dropout(0.2))\n",
        "model.add(LSTM(64, activation='relu', return_sequences=True))\n",
        "model.add(LSTM(64, activation='relu', return_sequences=False))\n",
        "\n",
        "model.add(Dropout(0.2))\n",
        "\n",
        "model.add(Dense(32))\n",
        "\n",
        "model.add(Dense(1))\n",
        "\n",
        "model.compile(optimizer='adam', loss='mse')\n",
        "model.summary()"
      ],
      "id": "VoBbm5CUUs4j",
      "execution_count": 27,
      "outputs": [
        {
          "output_type": "stream",
          "name": "stdout",
          "text": [
            "Model: \"sequential_1\"\n",
            "_________________________________________________________________\n",
            "Layer (type)                 Output Shape              Param #   \n",
            "=================================================================\n",
            "lstm_4 (LSTM)                (None, 10, 256)           264192    \n",
            "_________________________________________________________________\n",
            "lstm_5 (LSTM)                (None, 10, 128)           197120    \n",
            "_________________________________________________________________\n",
            "dropout_2 (Dropout)          (None, 10, 128)           0         \n",
            "_________________________________________________________________\n",
            "lstm_6 (LSTM)                (None, 10, 64)            49408     \n",
            "_________________________________________________________________\n",
            "lstm_7 (LSTM)                (None, 64)                33024     \n",
            "_________________________________________________________________\n",
            "dropout_3 (Dropout)          (None, 64)                0         \n",
            "_________________________________________________________________\n",
            "dense_2 (Dense)              (None, 32)                2080      \n",
            "_________________________________________________________________\n",
            "dense_3 (Dense)              (None, 1)                 33        \n",
            "=================================================================\n",
            "Total params: 545,857\n",
            "Trainable params: 545,857\n",
            "Non-trainable params: 0\n",
            "_________________________________________________________________\n"
          ]
        }
      ]
    },
    {
      "cell_type": "code",
      "metadata": {
        "colab": {
          "base_uri": "https://localhost:8080/"
        },
        "id": "Bbr8GrN9-P53",
        "outputId": "8182f82a-280c-43ba-b535-5ff99b60232c"
      },
      "source": [
        "history = model.fit(trainX, trainY, epochs=100,  validation_split=0.1, verbose=1)\n"
      ],
      "id": "Bbr8GrN9-P53",
      "execution_count": 28,
      "outputs": [
        {
          "output_type": "stream",
          "name": "stdout",
          "text": [
            "Epoch 1/100\n",
            "4/4 [==============================] - 5s 274ms/step - loss: 0.0041 - val_loss: 0.2410\n",
            "Epoch 2/100\n",
            "4/4 [==============================] - 0s 79ms/step - loss: 0.0019 - val_loss: 0.2182\n",
            "Epoch 3/100\n",
            "4/4 [==============================] - 0s 77ms/step - loss: 0.0024 - val_loss: 0.2254\n",
            "Epoch 4/100\n",
            "4/4 [==============================] - 0s 80ms/step - loss: 0.0019 - val_loss: 0.2353\n",
            "Epoch 5/100\n",
            "4/4 [==============================] - 0s 80ms/step - loss: 0.0019 - val_loss: 0.2389\n",
            "Epoch 6/100\n",
            "4/4 [==============================] - 0s 76ms/step - loss: 0.0019 - val_loss: 0.2362\n",
            "Epoch 7/100\n",
            "4/4 [==============================] - 0s 76ms/step - loss: 0.0018 - val_loss: 0.2328\n",
            "Epoch 8/100\n",
            "4/4 [==============================] - 0s 81ms/step - loss: 0.0019 - val_loss: 0.2298\n",
            "Epoch 9/100\n",
            "4/4 [==============================] - 0s 79ms/step - loss: 0.0019 - val_loss: 0.2301\n",
            "Epoch 10/100\n",
            "4/4 [==============================] - 0s 81ms/step - loss: 0.0018 - val_loss: 0.2325\n",
            "Epoch 11/100\n",
            "4/4 [==============================] - 0s 82ms/step - loss: 0.0018 - val_loss: 0.2343\n",
            "Epoch 12/100\n",
            "4/4 [==============================] - 0s 78ms/step - loss: 0.0018 - val_loss: 0.2337\n",
            "Epoch 13/100\n",
            "4/4 [==============================] - 0s 71ms/step - loss: 0.0018 - val_loss: 0.2323\n",
            "Epoch 14/100\n",
            "4/4 [==============================] - 0s 73ms/step - loss: 0.0018 - val_loss: 0.2305\n",
            "Epoch 15/100\n",
            "4/4 [==============================] - 0s 73ms/step - loss: 0.0018 - val_loss: 0.2314\n",
            "Epoch 16/100\n",
            "4/4 [==============================] - 0s 71ms/step - loss: 0.0018 - val_loss: 0.2327\n",
            "Epoch 17/100\n",
            "4/4 [==============================] - 0s 73ms/step - loss: 0.0018 - val_loss: 0.2311\n",
            "Epoch 18/100\n",
            "4/4 [==============================] - 0s 72ms/step - loss: 0.0018 - val_loss: 0.2310\n",
            "Epoch 19/100\n",
            "4/4 [==============================] - 0s 72ms/step - loss: 0.0017 - val_loss: 0.2306\n",
            "Epoch 20/100\n",
            "4/4 [==============================] - 0s 79ms/step - loss: 0.0017 - val_loss: 0.2301\n",
            "Epoch 21/100\n",
            "4/4 [==============================] - 0s 79ms/step - loss: 0.0016 - val_loss: 0.2290\n",
            "Epoch 22/100\n",
            "4/4 [==============================] - 0s 80ms/step - loss: 0.0016 - val_loss: 0.2271\n",
            "Epoch 23/100\n",
            "4/4 [==============================] - 0s 79ms/step - loss: 0.0016 - val_loss: 0.2305\n",
            "Epoch 24/100\n",
            "4/4 [==============================] - 0s 78ms/step - loss: 0.0016 - val_loss: 0.2247\n",
            "Epoch 25/100\n",
            "4/4 [==============================] - 0s 80ms/step - loss: 0.0016 - val_loss: 0.2313\n",
            "Epoch 26/100\n",
            "4/4 [==============================] - 0s 79ms/step - loss: 0.0016 - val_loss: 0.2245\n",
            "Epoch 27/100\n",
            "4/4 [==============================] - 0s 80ms/step - loss: 0.0016 - val_loss: 0.2274\n",
            "Epoch 28/100\n",
            "4/4 [==============================] - 0s 88ms/step - loss: 0.0016 - val_loss: 0.2261\n",
            "Epoch 29/100\n",
            "4/4 [==============================] - 0s 76ms/step - loss: 0.0016 - val_loss: 0.2243\n",
            "Epoch 30/100\n",
            "4/4 [==============================] - 0s 78ms/step - loss: 0.0015 - val_loss: 0.2240\n",
            "Epoch 31/100\n",
            "4/4 [==============================] - 0s 78ms/step - loss: 0.0016 - val_loss: 0.2246\n",
            "Epoch 32/100\n",
            "4/4 [==============================] - 0s 75ms/step - loss: 0.0015 - val_loss: 0.2211\n",
            "Epoch 33/100\n",
            "4/4 [==============================] - 0s 79ms/step - loss: 0.0015 - val_loss: 0.2219\n",
            "Epoch 34/100\n",
            "4/4 [==============================] - 0s 81ms/step - loss: 0.0016 - val_loss: 0.2221\n",
            "Epoch 35/100\n",
            "4/4 [==============================] - 0s 83ms/step - loss: 0.0016 - val_loss: 0.2202\n",
            "Epoch 36/100\n",
            "4/4 [==============================] - 0s 79ms/step - loss: 0.0015 - val_loss: 0.2230\n",
            "Epoch 37/100\n",
            "4/4 [==============================] - 0s 74ms/step - loss: 0.0015 - val_loss: 0.2155\n",
            "Epoch 38/100\n",
            "4/4 [==============================] - 0s 73ms/step - loss: 0.0016 - val_loss: 0.2212\n",
            "Epoch 39/100\n",
            "4/4 [==============================] - 0s 72ms/step - loss: 0.0015 - val_loss: 0.2162\n",
            "Epoch 40/100\n",
            "4/4 [==============================] - 0s 70ms/step - loss: 0.0015 - val_loss: 0.2166\n",
            "Epoch 41/100\n",
            "4/4 [==============================] - 0s 71ms/step - loss: 0.0015 - val_loss: 0.2111\n",
            "Epoch 42/100\n",
            "4/4 [==============================] - 0s 72ms/step - loss: 0.0015 - val_loss: 0.2200\n",
            "Epoch 43/100\n",
            "4/4 [==============================] - 0s 72ms/step - loss: 0.0017 - val_loss: 0.2144\n",
            "Epoch 44/100\n",
            "4/4 [==============================] - 0s 73ms/step - loss: 0.0014 - val_loss: 0.2077\n",
            "Epoch 45/100\n",
            "4/4 [==============================] - 0s 77ms/step - loss: 0.0015 - val_loss: 0.2152\n",
            "Epoch 46/100\n",
            "4/4 [==============================] - 0s 71ms/step - loss: 0.0014 - val_loss: 0.2087\n",
            "Epoch 47/100\n",
            "4/4 [==============================] - 0s 75ms/step - loss: 0.0014 - val_loss: 0.2076\n",
            "Epoch 48/100\n",
            "4/4 [==============================] - 0s 69ms/step - loss: 0.0014 - val_loss: 0.2032\n",
            "Epoch 49/100\n",
            "4/4 [==============================] - 0s 73ms/step - loss: 0.0014 - val_loss: 0.2054\n",
            "Epoch 50/100\n",
            "4/4 [==============================] - 0s 80ms/step - loss: 0.0013 - val_loss: 0.2004\n",
            "Epoch 51/100\n",
            "4/4 [==============================] - 0s 80ms/step - loss: 0.0013 - val_loss: 0.1975\n",
            "Epoch 52/100\n",
            "4/4 [==============================] - 0s 81ms/step - loss: 0.0013 - val_loss: 0.1893\n",
            "Epoch 53/100\n",
            "4/4 [==============================] - 0s 77ms/step - loss: 0.0013 - val_loss: 0.1869\n",
            "Epoch 54/100\n",
            "4/4 [==============================] - 0s 81ms/step - loss: 0.0012 - val_loss: 0.1966\n",
            "Epoch 55/100\n",
            "4/4 [==============================] - 0s 81ms/step - loss: 0.0014 - val_loss: 0.1780\n",
            "Epoch 56/100\n",
            "4/4 [==============================] - 0s 81ms/step - loss: 0.0015 - val_loss: 0.1944\n",
            "Epoch 57/100\n",
            "4/4 [==============================] - 0s 82ms/step - loss: 0.0012 - val_loss: 0.1834\n",
            "Epoch 58/100\n",
            "4/4 [==============================] - 0s 80ms/step - loss: 0.0012 - val_loss: 0.1871\n",
            "Epoch 59/100\n",
            "4/4 [==============================] - 0s 81ms/step - loss: 0.0013 - val_loss: 0.1715\n",
            "Epoch 60/100\n",
            "4/4 [==============================] - 0s 74ms/step - loss: 0.0011 - val_loss: 0.1773\n",
            "Epoch 61/100\n",
            "4/4 [==============================] - 0s 73ms/step - loss: 0.0011 - val_loss: 0.1720\n",
            "Epoch 62/100\n",
            "4/4 [==============================] - 0s 78ms/step - loss: 0.0011 - val_loss: 0.1664\n",
            "Epoch 63/100\n",
            "4/4 [==============================] - 0s 73ms/step - loss: 0.0012 - val_loss: 0.1597\n",
            "Epoch 64/100\n",
            "4/4 [==============================] - 0s 73ms/step - loss: 0.0011 - val_loss: 0.1664\n",
            "Epoch 65/100\n",
            "4/4 [==============================] - 0s 81ms/step - loss: 0.0010 - val_loss: 0.1593\n",
            "Epoch 66/100\n",
            "4/4 [==============================] - 0s 76ms/step - loss: 0.0011 - val_loss: 0.1639\n",
            "Epoch 67/100\n",
            "4/4 [==============================] - 0s 82ms/step - loss: 9.7800e-04 - val_loss: 0.1557\n",
            "Epoch 68/100\n",
            "4/4 [==============================] - 0s 80ms/step - loss: 0.0011 - val_loss: 0.1503\n",
            "Epoch 69/100\n",
            "4/4 [==============================] - 0s 81ms/step - loss: 0.0011 - val_loss: 0.1572\n",
            "Epoch 70/100\n",
            "4/4 [==============================] - 0s 81ms/step - loss: 0.0011 - val_loss: 0.1606\n",
            "Epoch 71/100\n",
            "4/4 [==============================] - 0s 78ms/step - loss: 0.0012 - val_loss: 0.1472\n",
            "Epoch 72/100\n",
            "4/4 [==============================] - 0s 78ms/step - loss: 0.0011 - val_loss: 0.1617\n",
            "Epoch 73/100\n",
            "4/4 [==============================] - 0s 80ms/step - loss: 0.0011 - val_loss: 0.1492\n",
            "Epoch 74/100\n",
            "4/4 [==============================] - 0s 78ms/step - loss: 0.0011 - val_loss: 0.1603\n",
            "Epoch 75/100\n",
            "4/4 [==============================] - 0s 90ms/step - loss: 0.0010 - val_loss: 0.1480\n",
            "Epoch 76/100\n",
            "4/4 [==============================] - 0s 78ms/step - loss: 0.0011 - val_loss: 0.1532\n",
            "Epoch 77/100\n",
            "4/4 [==============================] - 0s 78ms/step - loss: 0.0010 - val_loss: 0.1558\n",
            "Epoch 78/100\n",
            "4/4 [==============================] - 0s 80ms/step - loss: 0.0011 - val_loss: 0.1498\n",
            "Epoch 79/100\n",
            "4/4 [==============================] - 0s 79ms/step - loss: 0.0011 - val_loss: 0.1551\n",
            "Epoch 80/100\n",
            "4/4 [==============================] - 0s 71ms/step - loss: 0.0011 - val_loss: 0.1581\n",
            "Epoch 81/100\n",
            "4/4 [==============================] - 0s 70ms/step - loss: 9.0995e-04 - val_loss: 0.1430\n",
            "Epoch 82/100\n",
            "4/4 [==============================] - 0s 71ms/step - loss: 9.6324e-04 - val_loss: 0.1472\n",
            "Epoch 83/100\n",
            "4/4 [==============================] - 0s 75ms/step - loss: 9.5777e-04 - val_loss: 0.1386\n",
            "Epoch 84/100\n",
            "4/4 [==============================] - 0s 72ms/step - loss: 9.1574e-04 - val_loss: 0.1446\n",
            "Epoch 85/100\n",
            "4/4 [==============================] - 0s 78ms/step - loss: 0.0011 - val_loss: 0.1378\n",
            "Epoch 86/100\n",
            "4/4 [==============================] - 0s 74ms/step - loss: 9.2476e-04 - val_loss: 0.1492\n",
            "Epoch 87/100\n",
            "4/4 [==============================] - 0s 87ms/step - loss: 0.0010 - val_loss: 0.1325\n",
            "Epoch 88/100\n",
            "4/4 [==============================] - 0s 79ms/step - loss: 0.0010 - val_loss: 0.1463\n",
            "Epoch 89/100\n",
            "4/4 [==============================] - 0s 78ms/step - loss: 9.1643e-04 - val_loss: 0.1346\n",
            "Epoch 90/100\n",
            "4/4 [==============================] - 0s 79ms/step - loss: 0.0011 - val_loss: 0.1418\n",
            "Epoch 91/100\n",
            "4/4 [==============================] - 0s 80ms/step - loss: 0.0010 - val_loss: 0.1398\n",
            "Epoch 92/100\n",
            "4/4 [==============================] - 0s 77ms/step - loss: 8.5461e-04 - val_loss: 0.1399\n",
            "Epoch 93/100\n",
            "4/4 [==============================] - 0s 84ms/step - loss: 8.9730e-04 - val_loss: 0.1304\n",
            "Epoch 94/100\n",
            "4/4 [==============================] - 0s 76ms/step - loss: 9.8876e-04 - val_loss: 0.1358\n",
            "Epoch 95/100\n",
            "4/4 [==============================] - 0s 83ms/step - loss: 8.2574e-04 - val_loss: 0.1338\n",
            "Epoch 96/100\n",
            "4/4 [==============================] - 0s 76ms/step - loss: 9.3922e-04 - val_loss: 0.1330\n",
            "Epoch 97/100\n",
            "4/4 [==============================] - 0s 81ms/step - loss: 9.1316e-04 - val_loss: 0.1282\n",
            "Epoch 98/100\n",
            "4/4 [==============================] - 0s 83ms/step - loss: 8.6649e-04 - val_loss: 0.1212\n",
            "Epoch 99/100\n",
            "4/4 [==============================] - 0s 80ms/step - loss: 9.3681e-04 - val_loss: 0.1377\n",
            "Epoch 100/100\n",
            "4/4 [==============================] - 0s 78ms/step - loss: 9.1650e-04 - val_loss: 0.1229\n"
          ]
        }
      ]
    },
    {
      "cell_type": "code",
      "metadata": {
        "colab": {
          "base_uri": "https://localhost:8080/",
          "height": 752
        },
        "id": "eyVe9hBT3lbN",
        "outputId": "22d02236-80cd-43ed-887f-7e115897de6c"
      },
      "source": [
        "df=fetch_data(20)\n",
        "data =df['Close']\n",
        "init_date = df[\"Date\"][0]\n",
        "data = np.array(data)\n",
        "# print(data)\n",
        "\n",
        "data1= data[:10]\n",
        "\n",
        "input_data =data1\n",
        "data_scaled = data1.reshape((n_past,1))\n",
        "# print(len(data_scaled))\n",
        "data_scaled = scaler.transform(data_scaled).tolist()\n",
        "out_data = []\n",
        "i=0\n",
        "ran = len(data)-5\n",
        "\n",
        "\n",
        "while(i<ran):\n",
        "  x_input=data_scaled[len(data_scaled)-n_past:]\n",
        "#   print(f\" for input : {x_input}\")\n",
        "  x_input=np.array(x_input).reshape((1,n_past,1))\n",
        "  y_pred = model.predict(x_input)[0][0]\n",
        "  # print(f\" Output is : {y_pred}\")\n",
        "  actual_p =scaler.inverse_transform([[y_pred]]).tolist()\n",
        "  out_data.append(actual_p[0][0])\n",
        "  data_scaled.append([y_pred])\n",
        "  i=i+1\n",
        "print(out_data)\n",
        "plt.figure(figsize=(20,10))\n",
        "datelist = pd.date_range(init_date , periods=len(data)+i-1)\n",
        "sns.lineplot(datelist[:len(data)],data, label='input', marker='o')\n",
        "sns.lineplot(datelist[10:len(data)+5],out_data ,label='Prediction', marker='o')\n",
        "# sns.lineplot(datelist[10:len(data)+10],out_data ,label='Prediction', linestyle='dashed')\n",
        "# plt.plot(np.arange(0,len(data)),data, label='input', marker='o')\n",
        "# plt.plot(np.arange(10,len(data)),out_data ,label='Prediction', linestyle='dashed')\n",
        "plt.title(f\" Data of Days :{len(data)}\")\n",
        "plt.legend()\n"
      ],
      "id": "eyVe9hBT3lbN",
      "execution_count": 29,
      "outputs": [
        {
          "output_type": "stream",
          "name": "stdout",
          "text": [
            "\r[*********************100%***********************]  1 of 1 completed\n",
            "[7.375773478238926e-06, 7.379160110364486e-06, 7.454988190306981e-06, 7.554280383844508e-06, 7.66638935059986e-06, 7.74849005644564e-06, 7.811866240812516e-06, 7.832634309441061e-06, 7.834382767917588e-06, 7.834359532588996e-06, 7.813997418344275e-06, 7.792203841891672e-06, 7.754307352891843e-06, 7.713098501834631e-06, 7.67633722460314e-06]\n"
          ]
        },
        {
          "output_type": "stream",
          "name": "stderr",
          "text": [
            "/usr/local/lib/python3.7/dist-packages/seaborn/_decorators.py:43: FutureWarning: Pass the following variables as keyword args: x, y. From version 0.12, the only valid positional argument will be `data`, and passing other arguments without an explicit keyword will result in an error or misinterpretation.\n",
            "  FutureWarning\n",
            "/usr/local/lib/python3.7/dist-packages/seaborn/_decorators.py:43: FutureWarning: Pass the following variables as keyword args: x, y. From version 0.12, the only valid positional argument will be `data`, and passing other arguments without an explicit keyword will result in an error or misinterpretation.\n",
            "  FutureWarning\n"
          ]
        },
        {
          "output_type": "execute_result",
          "data": {
            "text/plain": [
              "<matplotlib.legend.Legend at 0x7ff7a9e48b10>"
            ]
          },
          "metadata": {},
          "execution_count": 29
        },
        {
          "output_type": "display_data",
          "data": {
            "image/png": "[encoded data removed]",
            "text/plain": [
              "<Figure size 1440x720 with 1 Axes>"
            ]
          },
          "metadata": {
            "needs_background": "light"
          }
        }
      ]
    },
    {
      "cell_type": "code",
      "metadata": {
        "colab": {
          "base_uri": "https://localhost:8080/",
          "height": 696
        },
        "id": "VnGAphSFWgmT",
        "outputId": "bdc78859-e655-49fa-a7b5-7af4a2c24a15"
      },
      "source": [
        "#  prediction of future 10 days\n",
        "\n",
        "df=fetch_data(20)\n",
        "data =df['Open']\n",
        "init_date = df[\"Date\"][0]\n",
        "print(\"len_daat\",len(data))\n",
        "\n",
        "data = np.array(data)\n",
        "data1= data[len(data)-10:]\n",
        "print(\"len_daat1\",len(data1))\n",
        "input_data =data1\n",
        "data_scaled = data1.reshape((n_past,1))\n",
        "data_scaled = scaler.transform(data_scaled).tolist()\n",
        "out_data = []\n",
        "i=0\n",
        "ran = len(data)-10\n",
        "\n",
        "while(i<ran):\n",
        "  x_input=data_scaled[len(data_scaled)-n_past:]\n",
        "  # print(f\" for input : {x_input}\")\n",
        "  x_input=np.array(x_input).reshape((1,n_past,1))\n",
        "  y_pred = model.predict(x_input)[0][0]\n",
        "  # print(f\" Output is : {y_pred}\")\n",
        "  pred_p =scaler.inverse_transform([[y_pred]]).tolist()\n",
        "  out_data.append(pred_p[0][0])\n",
        "  data_scaled.append([y_pred])\n",
        "  i=i+1\n",
        "print(\"out_len :\",len(out_data))\n",
        "# print(\"out_ :\",out_data)\n",
        "plt.figure(figsize=(20,10))\n",
        "\n",
        "# print(datelist[:5])\n",
        "# plt.plot(np.arange(0,len(data)),data, label='input', marker='o')\n",
        "# plt.plot(np.arange(len(data)-1,len(data)+9),out_data ,label='Prediction', linestyle='dashed')\n",
        "\n",
        "datelist = pd.date_range(init_date , periods=len(data)+i-1)\n",
        "plt.plot(datelist[:len(data)],data, label='input', marker='o')\n",
        "plt.plot(datelist[len(data)-1:],out_data ,label='Prediction', linestyle='dashed')\n",
        "plt.title(f\" Data of hours :{len(data)}\")\n",
        "plt.legend()"
      ],
      "id": "VnGAphSFWgmT",
      "execution_count": 30,
      "outputs": [
        {
          "output_type": "stream",
          "name": "stdout",
          "text": [
            "\r[*********************100%***********************]  1 of 1 completed\n",
            "len_daat 20\n",
            "len_daat1 10\n",
            "out_len : 10\n"
          ]
        },
        {
          "output_type": "execute_result",
          "data": {
            "text/plain": [
              "<matplotlib.legend.Legend at 0x7ff7a9ee1e90>"
            ]
          },
          "metadata": {},
          "execution_count": 30
        },
        {
          "output_type": "display_data",
          "data": {
            "image/png": "[encoded data removed]",
            "text/plain": [
              "<Figure size 1440x720 with 1 Axes>"
            ]
          },
          "metadata": {
            "needs_background": "light"
          }
        }
      ]
    },
    {
      "cell_type": "code",
      "metadata": {
        "id": "UhaIXA9XU8G6"
      },
      "source": [
        "# df=fetch_data(10)\n",
        "# data =df['Open']\n",
        "# data = np.array(data)\n",
        "# data1= data[len(data)-n_past:]\n",
        "\n",
        "# input_data =data1\n",
        "# data_scaled = data1.reshape((n_past,1))\n",
        "# data_scaled = scaler.transform(data_scaled).tolist()\n",
        "# out_data = []\n",
        "# i=0\n",
        "\n",
        "# while(i<10):\n",
        "#   x_input=data_scaled[len(data_scaled)-n_past:]\n",
        "#   print(f\" for input : {x_input}\")\n",
        "#   x_input=np.array(x_input).reshape((1,n_past,1))\n",
        "#   y_pred = model.predict(x_input)[0][0]\n",
        "#   print(f\" Output is : {y_pred}\")\n",
        "  \n",
        "#   out_data.append(scaler.inverse_transform([y_pred])[0])\n",
        "#   data_scaled.append([y_pred])\n",
        "#   i=i+1\n",
        "# plt.figure(figsize=(20,10))\n",
        "# plt.plot(np.arange(0,len(data)),data, label='input')\n",
        "# plt.plot(np.arange(len(data),len(data)+i),out_data ,label='Prediction')\n",
        "# plt.title(f\" Data of hours :{len(data)}\")\n",
        "# plt.legend()"
      ],
      "id": "UhaIXA9XU8G6",
      "execution_count": 31,
      "outputs": []
    },
    {
      "cell_type": "code",
      "metadata": {
        "colab": {
          "base_uri": "https://localhost:8080/"
        },
        "id": "m0n4H4k_YVBx",
        "outputId": "469f2229-b612-4c8a-c516-65aa228945d4"
      },
      "source": [
        "len(data)"
      ],
      "id": "m0n4H4k_YVBx",
      "execution_count": 32,
      "outputs": [
        {
          "output_type": "execute_result",
          "data": {
            "text/plain": [
              "20"
            ]
          },
          "metadata": {},
          "execution_count": 32
        }
      ]
    },
    {
      "cell_type": "code",
      "metadata": {
        "id": "RpDI6jKnYVgf",
        "colab": {
          "base_uri": "https://localhost:8080/"
        },
        "outputId": "ae42d51b-b2ad-4f03-e6ca-1425f30fc3f7"
      },
      "source": [
        "[[0.36246806383132935]]"
      ],
      "id": "RpDI6jKnYVgf",
      "execution_count": 33,
      "outputs": [
        {
          "output_type": "execute_result",
          "data": {
            "text/plain": [
              "[[0.36246806383132935]]"
            ]
          },
          "metadata": {},
          "execution_count": 33
        }
      ]
    },
    {
      "cell_type": "code",
      "metadata": {
        "id": "inner-township",
        "colab": {
          "base_uri": "https://localhost:8080/"
        },
        "outputId": "addb06b6-ecbe-49e3-f01a-ac1e868b3a71"
      },
      "source": [
        "data = yf.download(tickers='BTC-USD', period = '10d', interval = '1d')"
      ],
      "id": "inner-township",
      "execution_count": 34,
      "outputs": [
        {
          "output_type": "stream",
          "name": "stdout",
          "text": [
            "\r[*********************100%***********************]  1 of 1 completed\n"
          ]
        }
      ]
    },
    {
      "cell_type": "code",
      "metadata": {
        "colab": {
          "base_uri": "https://localhost:8080/"
        },
        "id": "lv6ANh6dq3Uk",
        "outputId": "9682e831-c32f-465e-9a1b-9053cc8eca88"
      },
      "source": [
        "data['Volume']"
      ],
      "id": "lv6ANh6dq3Uk",
      "execution_count": 35,
      "outputs": [
        {
          "output_type": "execute_result",
          "data": {
            "text/plain": [
              "Date\n",
              "2021-09-30    31141681925\n",
              "2021-10-01    42850641582\n",
              "2021-10-02    30614346492\n",
              "2021-10-03    26638115879\n",
              "2021-10-04    33383173002\n",
              "2021-10-05    35873904236\n",
              "2021-10-06    49034730168\n",
              "2021-10-07    36807860413\n",
              "2021-10-08    34800873924\n",
              "2021-10-09    32458870784\n",
              "Name: Volume, dtype: int64"
            ]
          },
          "metadata": {},
          "execution_count": 35
        }
      ]
    },
    {
      "cell_type": "code",
      "metadata": {
        "id": "xeI5MrZkq_C4"
      },
      "source": [
        "model.save('LSTM_V2_SHIB.h5')"
      ],
      "id": "xeI5MrZkq_C4",
      "execution_count": 36,
      "outputs": []
    },
    {
      "cell_type": "code",
      "metadata": {
        "colab": {
          "base_uri": "https://localhost:8080/",
          "height": 696
        },
        "id": "gXHiIQS8w9MF",
        "outputId": "af6ca012-668c-48a1-a444-c3fac0839373"
      },
      "source": [
        "#  prediction of future 10 days\n",
        "\n",
        "df=fetch_data(20)\n",
        "data =df['Open']\n",
        "init_date = df[\"Date\"][0]\n",
        "print(\"len_daat\",len(data))\n",
        "\n",
        "data = np.array(data)\n",
        "data1= data[len(data)-10:]\n",
        "print(\"len_daat1\",len(data1))\n",
        "input_data =data1\n",
        "data_scaled = data1.reshape((n_past,1))\n",
        "data_scaled = scaler.transform(data_scaled).tolist()\n",
        "out_data = []\n",
        "i=0\n",
        "ran = len(data)-10\n",
        "\n",
        "while(i<ran):\n",
        "  x_input=data_scaled[len(data_scaled)-n_past:]\n",
        "  # print(f\" for input : {x_input}\")\n",
        "  x_input=np.array(x_input).reshape((1,n_past,1))\n",
        "  y_pred = model.predict(x_input)[0][0]\n",
        "  # print(f\" Output is : {y_pred}\")\n",
        "  pred_p =scaler.inverse_transform([[y_pred]]).tolist()\n",
        "  out_data.append(pred_p[0][0])\n",
        "  data_scaled.append([y_pred])\n",
        "  i=i+1\n",
        "print(\"out_len :\",len(out_data))\n",
        "# print(\"out_ :\",out_data)\n",
        "plt.figure(figsize=(20,10))\n",
        "\n",
        "# print(datelist[:5])\n",
        "# plt.plot(np.arange(0,len(data)),data, label='input', marker='o')\n",
        "# plt.plot(np.arange(len(data)-1,len(data)+9),out_data ,label='Prediction', linestyle='dashed')\n",
        "\n",
        "datelist = pd.date_range(init_date , periods=len(data)+i-1)\n",
        "plt.plot(datelist[:len(data)],data, label='input', marker='o')\n",
        "plt.plot(datelist[len(data)-1:],out_data ,label='Prediction', linestyle='dashed')\n",
        "plt.title(f\" Data of hours :{len(data)}\")\n",
        "plt.legend()"
      ],
      "id": "gXHiIQS8w9MF",
      "execution_count": 37,
      "outputs": [
        {
          "output_type": "stream",
          "name": "stdout",
          "text": [
            "\r[*********************100%***********************]  1 of 1 completed\n",
            "len_daat 20\n",
            "len_daat1 10\n",
            "out_len : 10\n"
          ]
        },
        {
          "output_type": "execute_result",
          "data": {
            "text/plain": [
              "<matplotlib.legend.Legend at 0x7ff7a9d08b50>"
            ]
          },
          "metadata": {},
          "execution_count": 37
        },
        {
          "output_type": "display_data",
          "data": {
            "image/png": "[encoded data removed]",
            "text/plain": [
              "<Figure size 1440x720 with 1 Axes>"
            ]
          },
          "metadata": {
            "needs_background": "light"
          }
        }
      ]
    },
    {
      "cell_type": "code",
      "metadata": {
        "id": "385NBvQ21PCk"
      },
      "source": [
        "from pickle import dump\n",
        "dump(scaler, open('scaler_shib.pkl', 'wb'))"
      ],
      "id": "385NBvQ21PCk",
      "execution_count": 38,
      "outputs": []
    },
    {
      "cell_type": "code",
      "metadata": {
        "id": "y32GvAX43UcE"
      },
      "source": [
        "from pickle import load"
      ],
      "id": "y32GvAX43UcE",
      "execution_count": 39,
      "outputs": []
    },
    {
      "cell_type": "code",
      "metadata": {
        "id": "lASwX15k252T"
      },
      "source": [
        "# scaler_new = load(open('scaler_for_doge.pkl', 'rb'))"
      ],
      "id": "lASwX15k252T",
      "execution_count": 40,
      "outputs": []
    },
    {
      "cell_type": "code",
      "metadata": {
        "id": "0b2qwCXDTdBY"
      },
      "source": [
        "# from google.colab import drive\n",
        "# drive.mount('/content/drive')"
      ],
      "id": "0b2qwCXDTdBY",
      "execution_count": 41,
      "outputs": []
    },
    {
      "cell_type": "code",
      "metadata": {
        "id": "zMl-JnUuTi3L"
      },
      "source": [
        "import os"
      ],
      "id": "zMl-JnUuTi3L",
      "execution_count": 42,
      "outputs": []
    },
    {
      "cell_type": "code",
      "metadata": {
        "colab": {
          "base_uri": "https://localhost:8080/",
          "height": 441
        },
        "id": "i0ZL7tpuTkAP",
        "outputId": "23793e74-8506-42d6-81ed-9facbce5d245"
      },
      "source": [
        "import shutil\n",
        "\n",
        "shutil.move(\"/content/LSTM_V2_SHIB.h5\", \"/content/drive/MyDrive/Colab Notebooks\")"
      ],
      "id": "i0ZL7tpuTkAP",
      "execution_count": 44,
      "outputs": [
        {
          "output_type": "error",
          "ename": "FileNotFoundError",
          "evalue": "ignored",
          "traceback": [
            "\u001b[0;31m---------------------------------------------------------------------------\u001b[0m",
            "\u001b[0;31mFileNotFoundError\u001b[0m                         Traceback (most recent call last)",
            "\u001b[0;32m/usr/lib/python3.7/shutil.py\u001b[0m in \u001b[0;36mmove\u001b[0;34m(src, dst, copy_function)\u001b[0m\n\u001b[1;32m    565\u001b[0m     \u001b[0;32mtry\u001b[0m\u001b[0;34m:\u001b[0m\u001b[0;34m\u001b[0m\u001b[0;34m\u001b[0m\u001b[0m\n\u001b[0;32m--> 566\u001b[0;31m         \u001b[0mos\u001b[0m\u001b[0;34m.\u001b[0m\u001b[0mrename\u001b[0m\u001b[0;34m(\u001b[0m\u001b[0msrc\u001b[0m\u001b[0;34m,\u001b[0m \u001b[0mreal_dst\u001b[0m\u001b[0;34m)\u001b[0m\u001b[0;34m\u001b[0m\u001b[0;34m\u001b[0m\u001b[0m\n\u001b[0m\u001b[1;32m    567\u001b[0m     \u001b[0;32mexcept\u001b[0m \u001b[0mOSError\u001b[0m\u001b[0;34m:\u001b[0m\u001b[0;34m\u001b[0m\u001b[0;34m\u001b[0m\u001b[0m\n",
            "\u001b[0;31mFileNotFoundError\u001b[0m: [Errno 2] No such file or directory: '/content/LSTM_V2_SHIB.h5' -> '/content/drive/MyDrive/Colab Notebooks'",
            "\nDuring handling of the above exception, another exception occurred:\n",
            "\u001b[0;31mFileNotFoundError\u001b[0m                         Traceback (most recent call last)",
            "\u001b[0;32m<ipython-input-44-f17e33a1e3b9>\u001b[0m in \u001b[0;36m<module>\u001b[0;34m()\u001b[0m\n\u001b[1;32m      1\u001b[0m \u001b[0;32mimport\u001b[0m \u001b[0mshutil\u001b[0m\u001b[0;34m\u001b[0m\u001b[0;34m\u001b[0m\u001b[0m\n\u001b[1;32m      2\u001b[0m \u001b[0;34m\u001b[0m\u001b[0m\n\u001b[0;32m----> 3\u001b[0;31m \u001b[0mshutil\u001b[0m\u001b[0;34m.\u001b[0m\u001b[0mmove\u001b[0m\u001b[0;34m(\u001b[0m\u001b[0;34m\"/content/LSTM_V2_SHIB.h5\"\u001b[0m\u001b[0;34m,\u001b[0m \u001b[0;34m\"/content/drive/MyDrive/Colab Notebooks\"\u001b[0m\u001b[0;34m)\u001b[0m\u001b[0;34m\u001b[0m\u001b[0;34m\u001b[0m\u001b[0m\n\u001b[0m",
            "\u001b[0;32m/usr/lib/python3.7/shutil.py\u001b[0m in \u001b[0;36mmove\u001b[0;34m(src, dst, copy_function)\u001b[0m\n\u001b[1;32m    578\u001b[0m             \u001b[0mrmtree\u001b[0m\u001b[0;34m(\u001b[0m\u001b[0msrc\u001b[0m\u001b[0;34m)\u001b[0m\u001b[0;34m\u001b[0m\u001b[0;34m\u001b[0m\u001b[0m\n\u001b[1;32m    579\u001b[0m         \u001b[0;32melse\u001b[0m\u001b[0;34m:\u001b[0m\u001b[0;34m\u001b[0m\u001b[0;34m\u001b[0m\u001b[0m\n\u001b[0;32m--> 580\u001b[0;31m             \u001b[0mcopy_function\u001b[0m\u001b[0;34m(\u001b[0m\u001b[0msrc\u001b[0m\u001b[0;34m,\u001b[0m \u001b[0mreal_dst\u001b[0m\u001b[0;34m)\u001b[0m\u001b[0;34m\u001b[0m\u001b[0;34m\u001b[0m\u001b[0m\n\u001b[0m\u001b[1;32m    581\u001b[0m             \u001b[0mos\u001b[0m\u001b[0;34m.\u001b[0m\u001b[0munlink\u001b[0m\u001b[0;34m(\u001b[0m\u001b[0msrc\u001b[0m\u001b[0;34m)\u001b[0m\u001b[0;34m\u001b[0m\u001b[0;34m\u001b[0m\u001b[0m\n\u001b[1;32m    582\u001b[0m     \u001b[0;32mreturn\u001b[0m \u001b[0mreal_dst\u001b[0m\u001b[0;34m\u001b[0m\u001b[0;34m\u001b[0m\u001b[0m\n",
            "\u001b[0;32m/usr/lib/python3.7/shutil.py\u001b[0m in \u001b[0;36mcopy2\u001b[0;34m(src, dst, follow_symlinks)\u001b[0m\n\u001b[1;32m    264\u001b[0m     \u001b[0;32mif\u001b[0m \u001b[0mos\u001b[0m\u001b[0;34m.\u001b[0m\u001b[0mpath\u001b[0m\u001b[0;34m.\u001b[0m\u001b[0misdir\u001b[0m\u001b[0;34m(\u001b[0m\u001b[0mdst\u001b[0m\u001b[0;34m)\u001b[0m\u001b[0;34m:\u001b[0m\u001b[0;34m\u001b[0m\u001b[0;34m\u001b[0m\u001b[0m\n\u001b[1;32m    265\u001b[0m         \u001b[0mdst\u001b[0m \u001b[0;34m=\u001b[0m \u001b[0mos\u001b[0m\u001b[0;34m.\u001b[0m\u001b[0mpath\u001b[0m\u001b[0;34m.\u001b[0m\u001b[0mjoin\u001b[0m\u001b[0;34m(\u001b[0m\u001b[0mdst\u001b[0m\u001b[0;34m,\u001b[0m \u001b[0mos\u001b[0m\u001b[0;34m.\u001b[0m\u001b[0mpath\u001b[0m\u001b[0;34m.\u001b[0m\u001b[0mbasename\u001b[0m\u001b[0;34m(\u001b[0m\u001b[0msrc\u001b[0m\u001b[0;34m)\u001b[0m\u001b[0;34m)\u001b[0m\u001b[0;34m\u001b[0m\u001b[0;34m\u001b[0m\u001b[0m\n\u001b[0;32m--> 266\u001b[0;31m     \u001b[0mcopyfile\u001b[0m\u001b[0;34m(\u001b[0m\u001b[0msrc\u001b[0m\u001b[0;34m,\u001b[0m \u001b[0mdst\u001b[0m\u001b[0;34m,\u001b[0m \u001b[0mfollow_symlinks\u001b[0m\u001b[0;34m=\u001b[0m\u001b[0mfollow_symlinks\u001b[0m\u001b[0;34m)\u001b[0m\u001b[0;34m\u001b[0m\u001b[0;34m\u001b[0m\u001b[0m\n\u001b[0m\u001b[1;32m    267\u001b[0m     \u001b[0mcopystat\u001b[0m\u001b[0;34m(\u001b[0m\u001b[0msrc\u001b[0m\u001b[0;34m,\u001b[0m \u001b[0mdst\u001b[0m\u001b[0;34m,\u001b[0m \u001b[0mfollow_symlinks\u001b[0m\u001b[0;34m=\u001b[0m\u001b[0mfollow_symlinks\u001b[0m\u001b[0;34m)\u001b[0m\u001b[0;34m\u001b[0m\u001b[0;34m\u001b[0m\u001b[0m\n\u001b[1;32m    268\u001b[0m     \u001b[0;32mreturn\u001b[0m \u001b[0mdst\u001b[0m\u001b[0;34m\u001b[0m\u001b[0;34m\u001b[0m\u001b[0m\n",
            "\u001b[0;32m/usr/lib/python3.7/shutil.py\u001b[0m in \u001b[0;36mcopyfile\u001b[0;34m(src, dst, follow_symlinks)\u001b[0m\n\u001b[1;32m    119\u001b[0m     \u001b[0;32melse\u001b[0m\u001b[0;34m:\u001b[0m\u001b[0;34m\u001b[0m\u001b[0;34m\u001b[0m\u001b[0m\n\u001b[1;32m    120\u001b[0m         \u001b[0;32mwith\u001b[0m \u001b[0mopen\u001b[0m\u001b[0;34m(\u001b[0m\u001b[0msrc\u001b[0m\u001b[0;34m,\u001b[0m \u001b[0;34m'rb'\u001b[0m\u001b[0;34m)\u001b[0m \u001b[0;32mas\u001b[0m \u001b[0mfsrc\u001b[0m\u001b[0;34m:\u001b[0m\u001b[0;34m\u001b[0m\u001b[0;34m\u001b[0m\u001b[0m\n\u001b[0;32m--> 121\u001b[0;31m             \u001b[0;32mwith\u001b[0m \u001b[0mopen\u001b[0m\u001b[0;34m(\u001b[0m\u001b[0mdst\u001b[0m\u001b[0;34m,\u001b[0m \u001b[0;34m'wb'\u001b[0m\u001b[0;34m)\u001b[0m \u001b[0;32mas\u001b[0m \u001b[0mfdst\u001b[0m\u001b[0;34m:\u001b[0m\u001b[0;34m\u001b[0m\u001b[0;34m\u001b[0m\u001b[0m\n\u001b[0m\u001b[1;32m    122\u001b[0m                 \u001b[0mcopyfileobj\u001b[0m\u001b[0;34m(\u001b[0m\u001b[0mfsrc\u001b[0m\u001b[0;34m,\u001b[0m \u001b[0mfdst\u001b[0m\u001b[0;34m)\u001b[0m\u001b[0;34m\u001b[0m\u001b[0;34m\u001b[0m\u001b[0m\n\u001b[1;32m    123\u001b[0m     \u001b[0;32mreturn\u001b[0m \u001b[0mdst\u001b[0m\u001b[0;34m\u001b[0m\u001b[0;34m\u001b[0m\u001b[0m\n",
            "\u001b[0;31mFileNotFoundError\u001b[0m: [Errno 2] No such file or directory: '/content/drive/MyDrive/Colab Notebooks'"
          ]
        }
      ]
    },
    {
      "cell_type": "code",
      "metadata": {
        "id": "h_P1OPPcT17M"
      },
      "source": [
        "! pip install scikit-learn"
      ],
      "id": "h_P1OPPcT17M",
      "execution_count": null,
      "outputs": []
    },
    {
      "cell_type": "code",
      "metadata": {
        "id": "IMmBqvl_izmq"
      },
      "source": [
        ""
      ],
      "id": "IMmBqvl_izmq",
      "execution_count": null,
      "outputs": []
    }
  ]
}