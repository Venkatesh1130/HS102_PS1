{
 "cells": [
  {
   "cell_type": "code",
   "execution_count": 1,
   "id": "portuguese-chrome",
   "metadata": {
    "colab": {
     "base_uri": "https://localhost:8080/"
    },
    "id": "portuguese-chrome",
    "outputId": "7a22e746-caa4-4d0c-b21e-f893f0e460a1"
   },
   "outputs": [
    {
     "name": "stdout",
     "output_type": "stream",
     "text": [
      "Requirement already satisfied: yfinance in c:\\users\\rahul agrawal\\appdata\\local\\programs\\python\\python38\\lib\\site-packages (0.1.63)\n",
      "Requirement already satisfied: numpy>=1.15 in c:\\users\\rahul agrawal\\appdata\\local\\programs\\python\\python38\\lib\\site-packages (from yfinance) (1.19.5)\n",
      "Requirement already satisfied: requests>=2.20 in c:\\users\\rahul agrawal\\appdata\\local\\programs\\python\\python38\\lib\\site-packages (from yfinance) (2.25.1)\n",
      "Requirement already satisfied: multitasking>=0.0.7 in c:\\users\\rahul agrawal\\appdata\\local\\programs\\python\\python38\\lib\\site-packages (from yfinance) (0.0.9)\n",
      "Requirement already satisfied: pandas>=0.24 in c:\\users\\rahul agrawal\\appdata\\local\\programs\\python\\python38\\lib\\site-packages (from yfinance) (1.2.2)\n",
      "Requirement already satisfied: lxml>=4.5.1 in c:\\users\\rahul agrawal\\appdata\\local\\programs\\python\\python38\\lib\\site-packages (from yfinance) (4.6.3)\n",
      "Requirement already satisfied: pytz>=2017.3 in c:\\users\\rahul agrawal\\appdata\\local\\programs\\python\\python38\\lib\\site-packages (from pandas>=0.24->yfinance) (2021.1)\n",
      "Requirement already satisfied: python-dateutil>=2.7.3 in c:\\users\\rahul agrawal\\appdata\\local\\programs\\python\\python38\\lib\\site-packages (from pandas>=0.24->yfinance) (2.8.1)\n",
      "Requirement already satisfied: six>=1.5 in c:\\users\\rahul agrawal\\appdata\\local\\programs\\python\\python38\\lib\\site-packages (from python-dateutil>=2.7.3->pandas>=0.24->yfinance) (1.15.0)\n",
      "Requirement already satisfied: urllib3<1.27,>=1.21.1 in c:\\users\\rahul agrawal\\appdata\\local\\programs\\python\\python38\\lib\\site-packages (from requests>=2.20->yfinance) (1.26.4)\n",
      "Requirement already satisfied: certifi>=2017.4.17 in c:\\users\\rahul agrawal\\appdata\\local\\programs\\python\\python38\\lib\\site-packages (from requests>=2.20->yfinance) (2020.12.5)\n",
      "Requirement already satisfied: idna<3,>=2.5 in c:\\users\\rahul agrawal\\appdata\\local\\programs\\python\\python38\\lib\\site-packages (from requests>=2.20->yfinance) (2.10)\n",
      "Requirement already satisfied: chardet<5,>=3.0.2 in c:\\users\\rahul agrawal\\appdata\\local\\programs\\python\\python38\\lib\\site-packages (from requests>=2.20->yfinance) (4.0.0)\n"
     ]
    }
   ],
   "source": [
    "import numpy as np\n",
    "import pandas as pd\n",
    "!pip install yfinance\n",
    "import yfinance as yf\n",
    "import matplotlib.pyplot as plt\n",
    "from array import *\n",
    "from tensorflow.keras.models import Sequential\n",
    "from tensorflow.keras.layers import Dense\n",
    "from tensorflow.keras.layers import LSTM\n",
    "from tensorflow.keras.layers import Dropout\n",
    "from sklearn.preprocessing import StandardScaler\n",
    "\n",
    "\n",
    "def fetch_data (upto_dates = 10 , tickers='BTC-USD'):\n",
    "  data = yf.download(tickers=tickers, period = f'{upto_dates}d', interval = '1d')\n",
    "  new_array = np.array(data.index.to_pydatetime(), dtype=np.datetime64)\n",
    "  o = data.iloc[: , 0].values\n",
    "  h = data.iloc[: , 1].values\n",
    "  l = data.iloc[: , 2].values\n",
    "  c = data.iloc[: , 3].values\n",
    "  df= pd.DataFrame(new_array)\n",
    "  df.columns = ['Date']\n",
    "  df['Open']=o\n",
    "  df['High']=h\n",
    "  df['Low']=l\n",
    "  df['Close']=c\n",
    "  return df"
   ]
  },
  {
   "cell_type": "code",
   "execution_count": 2,
   "id": "checked-holly",
   "metadata": {
    "colab": {
     "base_uri": "https://localhost:8080/",
     "height": 467
    },
    "id": "checked-holly",
    "outputId": "e62fdbb0-7565-44fc-ad17-9e64811eb09d"
   },
   "outputs": [
    {
     "name": "stdout",
     "output_type": "stream",
     "text": [
      "[*********************100%***********************]  1 of 1 completed\n"
     ]
    },
    {
     "data": {
      "text/html": [
       "<div>\n",
       "<style scoped>\n",
       "    .dataframe tbody tr th:only-of-type {\n",
       "        vertical-align: middle;\n",
       "    }\n",
       "\n",
       "    .dataframe tbody tr th {\n",
       "        vertical-align: top;\n",
       "    }\n",
       "\n",
       "    .dataframe thead th {\n",
       "        text-align: right;\n",
       "    }\n",
       "</style>\n",
       "<table border=\"1\" class=\"dataframe\">\n",
       "  <thead>\n",
       "    <tr style=\"text-align: right;\">\n",
       "      <th></th>\n",
       "      <th>Date</th>\n",
       "      <th>Open</th>\n",
       "      <th>High</th>\n",
       "      <th>Low</th>\n",
       "      <th>Close</th>\n",
       "    </tr>\n",
       "  </thead>\n",
       "  <tbody>\n",
       "    <tr>\n",
       "      <th>0</th>\n",
       "      <td>2020-09-05</td>\n",
       "      <td>10512.530273</td>\n",
       "      <td>10581.571289</td>\n",
       "      <td>9946.675781</td>\n",
       "      <td>10169.567383</td>\n",
       "    </tr>\n",
       "    <tr>\n",
       "      <th>1</th>\n",
       "      <td>2020-09-06</td>\n",
       "      <td>10167.216797</td>\n",
       "      <td>10353.927734</td>\n",
       "      <td>10056.885742</td>\n",
       "      <td>10280.351562</td>\n",
       "    </tr>\n",
       "    <tr>\n",
       "      <th>2</th>\n",
       "      <td>2020-09-07</td>\n",
       "      <td>10280.998047</td>\n",
       "      <td>10399.153320</td>\n",
       "      <td>9916.493164</td>\n",
       "      <td>10369.563477</td>\n",
       "    </tr>\n",
       "    <tr>\n",
       "      <th>3</th>\n",
       "      <td>2020-09-08</td>\n",
       "      <td>10369.306641</td>\n",
       "      <td>10414.775391</td>\n",
       "      <td>9945.110352</td>\n",
       "      <td>10131.516602</td>\n",
       "    </tr>\n",
       "    <tr>\n",
       "      <th>4</th>\n",
       "      <td>2020-09-09</td>\n",
       "      <td>10134.151367</td>\n",
       "      <td>10350.542969</td>\n",
       "      <td>10017.250977</td>\n",
       "      <td>10242.347656</td>\n",
       "    </tr>\n",
       "    <tr>\n",
       "      <th>...</th>\n",
       "      <td>...</td>\n",
       "      <td>...</td>\n",
       "      <td>...</td>\n",
       "      <td>...</td>\n",
       "      <td>...</td>\n",
       "    </tr>\n",
       "    <tr>\n",
       "      <th>392</th>\n",
       "      <td>2021-10-05</td>\n",
       "      <td>49174.960938</td>\n",
       "      <td>51839.984375</td>\n",
       "      <td>49072.839844</td>\n",
       "      <td>51514.812500</td>\n",
       "    </tr>\n",
       "    <tr>\n",
       "      <th>393</th>\n",
       "      <td>2021-10-06</td>\n",
       "      <td>51486.664062</td>\n",
       "      <td>55568.464844</td>\n",
       "      <td>50488.191406</td>\n",
       "      <td>55361.449219</td>\n",
       "    </tr>\n",
       "    <tr>\n",
       "      <th>394</th>\n",
       "      <td>2021-10-07</td>\n",
       "      <td>55338.625000</td>\n",
       "      <td>55338.625000</td>\n",
       "      <td>53525.468750</td>\n",
       "      <td>53805.984375</td>\n",
       "    </tr>\n",
       "    <tr>\n",
       "      <th>395</th>\n",
       "      <td>2021-10-08</td>\n",
       "      <td>53802.144531</td>\n",
       "      <td>55922.980469</td>\n",
       "      <td>53688.054688</td>\n",
       "      <td>53967.847656</td>\n",
       "    </tr>\n",
       "    <tr>\n",
       "      <th>396</th>\n",
       "      <td>2021-10-09</td>\n",
       "      <td>53824.000000</td>\n",
       "      <td>54272.511719</td>\n",
       "      <td>53824.000000</td>\n",
       "      <td>54272.511719</td>\n",
       "    </tr>\n",
       "  </tbody>\n",
       "</table>\n",
       "<p>397 rows × 5 columns</p>\n",
       "</div>"
      ],
      "text/plain": [
       "          Date          Open          High           Low         Close\n",
       "0   2020-09-05  10512.530273  10581.571289   9946.675781  10169.567383\n",
       "1   2020-09-06  10167.216797  10353.927734  10056.885742  10280.351562\n",
       "2   2020-09-07  10280.998047  10399.153320   9916.493164  10369.563477\n",
       "3   2020-09-08  10369.306641  10414.775391   9945.110352  10131.516602\n",
       "4   2020-09-09  10134.151367  10350.542969  10017.250977  10242.347656\n",
       "..         ...           ...           ...           ...           ...\n",
       "392 2021-10-05  49174.960938  51839.984375  49072.839844  51514.812500\n",
       "393 2021-10-06  51486.664062  55568.464844  50488.191406  55361.449219\n",
       "394 2021-10-07  55338.625000  55338.625000  53525.468750  53805.984375\n",
       "395 2021-10-08  53802.144531  55922.980469  53688.054688  53967.847656\n",
       "396 2021-10-09  53824.000000  54272.511719  53824.000000  54272.511719\n",
       "\n",
       "[397 rows x 5 columns]"
      ]
     },
     "execution_count": 2,
     "metadata": {},
     "output_type": "execute_result"
    }
   ],
   "source": [
    "df=fetch_data(400)\n",
    "df"
   ]
  },
  {
   "cell_type": "code",
   "execution_count": 3,
   "id": "basic-sally",
   "metadata": {
    "id": "basic-sally"
   },
   "outputs": [],
   "source": [
    "\n",
    "cols =['Open']"
   ]
  },
  {
   "cell_type": "code",
   "execution_count": 4,
   "id": "better-bruce",
   "metadata": {
    "colab": {
     "base_uri": "https://localhost:8080/",
     "height": 282
    },
    "id": "better-bruce",
    "outputId": "0f6e0910-5a32-48d8-ba6b-870f58cc78e4"
   },
   "outputs": [
    {
     "name": "stdout",
     "output_type": "stream",
     "text": [
      "(397, 1)\n"
     ]
    },
    {
     "data": {
      "text/html": [
       "<div>\n",
       "<style scoped>\n",
       "    .dataframe tbody tr th:only-of-type {\n",
       "        vertical-align: middle;\n",
       "    }\n",
       "\n",
       "    .dataframe tbody tr th {\n",
       "        vertical-align: top;\n",
       "    }\n",
       "\n",
       "    .dataframe thead th {\n",
       "        text-align: right;\n",
       "    }\n",
       "</style>\n",
       "<table border=\"1\" class=\"dataframe\">\n",
       "  <thead>\n",
       "    <tr style=\"text-align: right;\">\n",
       "      <th></th>\n",
       "      <th>Open</th>\n",
       "    </tr>\n",
       "  </thead>\n",
       "  <tbody>\n",
       "    <tr>\n",
       "      <th>0</th>\n",
       "      <td>10512.530273</td>\n",
       "    </tr>\n",
       "    <tr>\n",
       "      <th>1</th>\n",
       "      <td>10167.216797</td>\n",
       "    </tr>\n",
       "    <tr>\n",
       "      <th>2</th>\n",
       "      <td>10280.998047</td>\n",
       "    </tr>\n",
       "    <tr>\n",
       "      <th>3</th>\n",
       "      <td>10369.306641</td>\n",
       "    </tr>\n",
       "    <tr>\n",
       "      <th>4</th>\n",
       "      <td>10134.151367</td>\n",
       "    </tr>\n",
       "    <tr>\n",
       "      <th>5</th>\n",
       "      <td>10242.330078</td>\n",
       "    </tr>\n",
       "    <tr>\n",
       "      <th>6</th>\n",
       "      <td>10369.028320</td>\n",
       "    </tr>\n",
       "  </tbody>\n",
       "</table>\n",
       "</div>"
      ],
      "text/plain": [
       "           Open\n",
       "0  10512.530273\n",
       "1  10167.216797\n",
       "2  10280.998047\n",
       "3  10369.306641\n",
       "4  10134.151367\n",
       "5  10242.330078\n",
       "6  10369.028320"
      ]
     },
     "execution_count": 4,
     "metadata": {},
     "output_type": "execute_result"
    }
   ],
   "source": [
    "df_for_training = df[cols].astype(float)\n",
    "print(df_for_training.shape)\n",
    "df_for_training.head(7)"
   ]
  },
  {
   "cell_type": "code",
   "execution_count": 5,
   "id": "saved-magazine",
   "metadata": {
    "id": "saved-magazine"
   },
   "outputs": [],
   "source": [
    "\n",
    "scaler = StandardScaler()\n",
    "scaler = scaler.fit(df_for_training)\n",
    "df_for_training_scaled = scaler.transform(df_for_training)"
   ]
  },
  {
   "cell_type": "code",
   "execution_count": 6,
   "id": "dangerous-border",
   "metadata": {
    "id": "dangerous-border"
   },
   "outputs": [
    {
     "name": "stdout",
     "output_type": "stream",
     "text": [
      "shape of trainx is : (387, 10, 1)\n",
      "shape of trainy is : (387,)\n"
     ]
    }
   ],
   "source": [
    "trainX = []\n",
    "trainY = []\n",
    "n_past = 10\n",
    "for i in range(n_past, len(df_for_training_scaled)):\n",
    "    trainX.append(df_for_training_scaled[i - n_past:i, 0:df_for_training.shape[1]])\n",
    "    trainY.append(df_for_training_scaled[i , 0])   # predict only open for next day\n",
    "\n",
    "trainX = np.array(trainX)\n",
    "trainY = np.array(trainY)\n",
    "print('shape of trainx is :',trainX.shape)\n",
    "print('shape of trainy is :',trainY.shape)"
   ]
  },
  {
   "cell_type": "code",
   "execution_count": 7,
   "id": "VoBbm5CUUs4j",
   "metadata": {
    "colab": {
     "base_uri": "https://localhost:8080/"
    },
    "id": "VoBbm5CUUs4j",
    "outputId": "86cd1676-085a-4ade-d037-a87aa004178a"
   },
   "outputs": [
    {
     "name": "stdout",
     "output_type": "stream",
     "text": [
      "WARNING:tensorflow:Layer lstm_3 will not use cuDNN kernel since it doesn't meet the cuDNN kernel criteria. It will use generic GPU kernel as fallback when running on GPU\n",
      "Model: \"sequential\"\n",
      "_________________________________________________________________\n",
      "Layer (type)                 Output Shape              Param #   \n",
      "=================================================================\n",
      "lstm (LSTM)                  (None, 10, 256)           264192    \n",
      "_________________________________________________________________\n",
      "lstm_1 (LSTM)                (None, 10, 128)           197120    \n",
      "_________________________________________________________________\n",
      "dropout (Dropout)            (None, 10, 128)           0         \n",
      "_________________________________________________________________\n",
      "lstm_2 (LSTM)                (None, 10, 64)            49408     \n",
      "_________________________________________________________________\n",
      "lstm_3 (LSTM)                (None, 64)                33024     \n",
      "_________________________________________________________________\n",
      "dropout_1 (Dropout)          (None, 64)                0         \n",
      "_________________________________________________________________\n",
      "dense (Dense)                (None, 32)                2080      \n",
      "_________________________________________________________________\n",
      "dense_1 (Dense)              (None, 1)                 33        \n",
      "=================================================================\n",
      "Total params: 545,857\n",
      "Trainable params: 545,857\n",
      "Non-trainable params: 0\n",
      "_________________________________________________________________\n"
     ]
    }
   ],
   "source": [
    "model = Sequential()\n",
    "model.add(LSTM(256, activation='tanh', input_shape=(trainX.shape[1], trainX.shape[2]), return_sequences=True))\n",
    "model.add(LSTM(128, activation='tanh', return_sequences=True))\n",
    "model.add(Dropout(0.2))\n",
    "model.add(LSTM(64, activation='tanh', return_sequences=True))\n",
    "model.add(LSTM(64, activation='relu', return_sequences=False))\n",
    "\n",
    "model.add(Dropout(0.2))\n",
    "\n",
    "model.add(Dense(32))\n",
    "\n",
    "model.add(Dense(1))\n",
    "\n",
    "model.compile(optimizer='adam', loss='mse')\n",
    "model.summary()"
   ]
  },
  {
   "cell_type": "code",
   "execution_count": null,
   "id": "enormous-blond",
   "metadata": {
    "colab": {
     "base_uri": "https://localhost:8080/"
    },
    "id": "enormous-blond",
    "outputId": "4fc35425-d934-41dc-fe21-6a1213cf800b"
   },
   "outputs": [
    {
     "name": "stdout",
     "output_type": "stream",
     "text": [
      "Epoch 1/500\n"
     ]
    }
   ],
   "source": [
    "history = model.fit(trainX, trainY, epochs=500,  validation_split=0.1, verbose=1)"
   ]
  },
  {
   "cell_type": "code",
   "execution_count": null,
   "id": "eyVe9hBT3lbN",
   "metadata": {
    "colab": {
     "base_uri": "https://localhost:8080/",
     "height": 691
    },
    "id": "eyVe9hBT3lbN",
    "outputId": "4c249b18-ee6a-4acb-e50d-61fd0cb0feb1"
   },
   "outputs": [],
   "source": [
    "df=fetch_data(10)\n",
    "data =df['Open']\n",
    "data = np.array(data)\n",
    "data1= data[:10]\n",
    "\n",
    "input_data =data1\n",
    "data_scaled = data1.reshape((n_past,1))\n",
    "data_scaled = scaler.transform(data_scaled).tolist()\n",
    "out_data = []\n",
    "i=0\n",
    "ran = len(data)-10\n",
    "\n",
    "while(i<ran):\n",
    "  x_input=data_scaled[len(data_scaled)-n_past:]\n",
    "  # print(f\" for input : {x_input}\")\n",
    "  x_input=np.array(x_input).reshape((1,n_past,1))\n",
    "  y_pred = model.predict(x_input)[0][0]\n",
    "  # print(f\" Output is : {y_pred}\")\n",
    "  \n",
    "  out_data.append(scaler.inverse_transform([y_pred])[0])\n",
    "  data_scaled.append([y_pred])\n",
    "  i=i+1\n",
    "print(\"out_len :\",len(out_data))\n",
    "plt.figure(figsize=(20,10))\n",
    "plt.plot(np.arange(0,len(data)),data, label='input', marker='o')\n",
    "plt.plot(np.arange(10,len(data)),out_data ,label='Prediction', linestyle='dashed')\n",
    "plt.title(f\" Data of hours :{len(data)}\")\n",
    "plt.legend()"
   ]
  },
  {
   "cell_type": "code",
   "execution_count": null,
   "id": "UhaIXA9XU8G6",
   "metadata": {
    "id": "UhaIXA9XU8G6"
   },
   "outputs": [],
   "source": [
    "# df=fetch_data(10)\n",
    "# data =df['Open']\n",
    "# data = np.array(data)\n",
    "# data1= data[len(data)-n_past:]\n",
    "\n",
    "# input_data =data1\n",
    "# data_scaled = data1.reshape((n_past,1))\n",
    "# data_scaled = scaler.transform(data_scaled).tolist()\n",
    "# out_data = []\n",
    "# i=0\n",
    "\n",
    "# while(i<10):\n",
    "#   x_input=data_scaled[len(data_scaled)-n_past:]\n",
    "#   print(f\" for input : {x_input}\")\n",
    "#   x_input=np.array(x_input).reshape((1,n_past,1))\n",
    "#   y_pred = model.predict(x_input)[0][0]\n",
    "#   print(f\" Output is : {y_pred}\")\n",
    "  \n",
    "#   out_data.append(scaler.inverse_transform([y_pred])[0])\n",
    "#   data_scaled.append([y_pred])\n",
    "#   i=i+1\n",
    "# plt.figure(figsize=(20,10))\n",
    "# plt.plot(np.arange(0,len(data)),data, label='input')\n",
    "# plt.plot(np.arange(len(data),len(data)+i),out_data ,label='Prediction')\n",
    "# plt.title(f\" Data of hours :{len(data)}\")\n",
    "# plt.legend()"
   ]
  },
  {
   "cell_type": "code",
   "execution_count": null,
   "id": "m0n4H4k_YVBx",
   "metadata": {
    "colab": {
     "base_uri": "https://localhost:8080/"
    },
    "id": "m0n4H4k_YVBx",
    "outputId": "b8525109-03c7-4b6e-fba4-24c482504f50"
   },
   "outputs": [],
   "source": [
    "len(data)"
   ]
  },
  {
   "cell_type": "code",
   "execution_count": null,
   "id": "RpDI6jKnYVgf",
   "metadata": {
    "id": "RpDI6jKnYVgf"
   },
   "outputs": [],
   "source": []
  }
 ],
 "metadata": {
  "colab": {
   "collapsed_sections": [],
   "name": "test.ipynb",
   "provenance": []
  },
  "kernelspec": {
   "display_name": "Python 3",
   "language": "python",
   "name": "python3"
  },
  "language_info": {
   "codemirror_mode": {
    "name": "ipython",
    "version": 3
   },
   "file_extension": ".py",
   "mimetype": "text/x-python",
   "name": "python",
   "nbconvert_exporter": "python",
   "pygments_lexer": "ipython3",
   "version": "3.8.7"
  }
 },
 "nbformat": 4,
 "nbformat_minor": 5
}
